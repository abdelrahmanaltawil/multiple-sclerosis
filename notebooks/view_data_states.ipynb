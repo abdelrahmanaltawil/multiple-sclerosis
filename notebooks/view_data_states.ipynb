{
 "cells": [
  {
   "cell_type": "markdown",
   "id": "a708bc35",
   "metadata": {},
   "source": [
    "> **If it doesn't run**\\\n",
    "> To execute this notebook you need to use kedro kernel:\n",
    "> * In terminal (rooted in `~project/`) type command `kedro jupyter notebook`.\n",
    "> * Navigate to the notebook in jupyter notebook app in the browsers.\n",
    "\n",
    "> Alternatively, you could add `%load_ext kedro.ipython` line magic to a cell in this notebook to load the kernel or `%reload_kedro` to reload it.\n"
   ]
  },
  {
   "cell_type": "markdown",
   "id": "05069bcd",
   "metadata": {},
   "source": [
    "# Data States\n",
    "This notebook take sneak peak on the data states before and after the data processing pipeline"
   ]
  },
  {
   "cell_type": "markdown",
   "id": "5804cf59",
   "metadata": {},
   "source": [
    "## Raw Data\n",
    "Data state before data processing pipeline"
   ]
  },
  {
   "cell_type": "code",
   "execution_count": 6,
   "id": "c8a9f793",
   "metadata": {},
   "outputs": [
    {
     "data": {
      "text/html": [
       "<pre style=\"white-space:pre;overflow-x:auto;line-height:normal;font-family:Menlo,'DejaVu Sans Mono',consolas,'Courier New',monospace\"><span style=\"color: #7fbfbf; text-decoration-color: #7fbfbf\">[11/11/22 23:19:38] </span><span style=\"color: #000080; text-decoration-color: #000080\">INFO    </span> Loading data from <span style=\"color: #008000; text-decoration-color: #008000\">'2min_walking_test_data'</span> <span style=\"font-weight: bold\">(</span>ExcelDataSet<span style=\"font-weight: bold\">)</span><span style=\"color: #808000; text-decoration-color: #808000\">...</span>       <span style=\"color: #7f7f7f; text-decoration-color: #7f7f7f\">data_catalog.py:343</span>\n",
       "</pre>\n"
      ],
      "text/plain": [
       "\u001b[2;36m[11/11/22 23:19:38]\u001b[0m\u001b[2;36m \u001b[0m\u001b[34mINFO    \u001b[0m Loading data from \u001b[32m'2min_walking_test_data'\u001b[0m \u001b[1m(\u001b[0mExcelDataSet\u001b[1m)\u001b[0m\u001b[33m...\u001b[0m       \u001b[2mdata_catalog.py\u001b[0m\u001b[2m:\u001b[0m\u001b[2m343\u001b[0m\n"
      ]
     },
     "metadata": {},
     "output_type": "display_data"
    },
    {
     "data": {
      "text/html": [
       "<div>\n",
       "<style scoped>\n",
       "    .dataframe tbody tr th:only-of-type {\n",
       "        vertical-align: middle;\n",
       "    }\n",
       "\n",
       "    .dataframe tbody tr th {\n",
       "        vertical-align: top;\n",
       "    }\n",
       "\n",
       "    .dataframe thead th {\n",
       "        text-align: right;\n",
       "    }\n",
       "</style>\n",
       "<table border=\"1\" class=\"dataframe\">\n",
       "  <thead>\n",
       "    <tr style=\"text-align: right;\">\n",
       "      <th></th>\n",
       "      <th>ID</th>\n",
       "      <th>Erstdiagnose</th>\n",
       "      <th>Verlaufsform</th>\n",
       "      <th>Therapie</th>\n",
       "      <th>Datum</th>\n",
       "      <th>Geschlecht</th>\n",
       "      <th>Alter</th>\n",
       "      <th>Hilfsmittel</th>\n",
       "      <th>Peroneusschiene</th>\n",
       "      <th>25-Foot Walk (Mittelwert)</th>\n",
       "      <th>...</th>\n",
       "      <th>Gait - Upper Limb - Arm Range of Motion R (degrees) [std]</th>\n",
       "      <th>Turns - Angle (degrees) [mean]</th>\n",
       "      <th>Turns - Angle (degrees) [std]</th>\n",
       "      <th>Turns - Duration (s) [mean]</th>\n",
       "      <th>Turns - Duration (s) [std]</th>\n",
       "      <th>Turns - N (#)</th>\n",
       "      <th>Turns - Turn Velocity (degrees/s) [mean]</th>\n",
       "      <th>Turns - Turn Velocity (degrees/s) [std]</th>\n",
       "      <th>Turns - Steps in Turn (#) [mean]</th>\n",
       "      <th>Turns - Steps in Turn (#) [std]</th>\n",
       "    </tr>\n",
       "  </thead>\n",
       "  <tbody>\n",
       "    <tr>\n",
       "      <th>0</th>\n",
       "      <td>1</td>\n",
       "      <td>2016</td>\n",
       "      <td>RRMS</td>\n",
       "      <td>Lemtrada</td>\n",
       "      <td>2021-04-15</td>\n",
       "      <td>0</td>\n",
       "      <td>35</td>\n",
       "      <td>0</td>\n",
       "      <td>n</td>\n",
       "      <td>3.910</td>\n",
       "      <td>...</td>\n",
       "      <td>18.35</td>\n",
       "      <td>179.77</td>\n",
       "      <td>21.28</td>\n",
       "      <td>1.62</td>\n",
       "      <td>0.21</td>\n",
       "      <td>5.0</td>\n",
       "      <td>249.07</td>\n",
       "      <td>46.02</td>\n",
       "      <td>2.80</td>\n",
       "      <td>0.45</td>\n",
       "    </tr>\n",
       "    <tr>\n",
       "      <th>1</th>\n",
       "      <td>2</td>\n",
       "      <td>2016</td>\n",
       "      <td>RRMS</td>\n",
       "      <td>Tecfidera</td>\n",
       "      <td>2021-01-21</td>\n",
       "      <td>0</td>\n",
       "      <td>60</td>\n",
       "      <td>0</td>\n",
       "      <td>n</td>\n",
       "      <td>5.575</td>\n",
       "      <td>...</td>\n",
       "      <td>5.26</td>\n",
       "      <td>182.87</td>\n",
       "      <td>9.39</td>\n",
       "      <td>2.82</td>\n",
       "      <td>0.67</td>\n",
       "      <td>4.0</td>\n",
       "      <td>180.77</td>\n",
       "      <td>52.69</td>\n",
       "      <td>5.00</td>\n",
       "      <td>0.82</td>\n",
       "    </tr>\n",
       "    <tr>\n",
       "      <th>2</th>\n",
       "      <td>3</td>\n",
       "      <td>2007</td>\n",
       "      <td>RRMS</td>\n",
       "      <td>Gilenya</td>\n",
       "      <td>2021-03-24</td>\n",
       "      <td>0</td>\n",
       "      <td>42</td>\n",
       "      <td>0</td>\n",
       "      <td>n</td>\n",
       "      <td>4.590</td>\n",
       "      <td>...</td>\n",
       "      <td>4.46</td>\n",
       "      <td>187.05</td>\n",
       "      <td>5.39</td>\n",
       "      <td>2.23</td>\n",
       "      <td>0.30</td>\n",
       "      <td>5.0</td>\n",
       "      <td>203.22</td>\n",
       "      <td>31.99</td>\n",
       "      <td>4.20</td>\n",
       "      <td>0.45</td>\n",
       "    </tr>\n",
       "    <tr>\n",
       "      <th>3</th>\n",
       "      <td>4</td>\n",
       "      <td>2010</td>\n",
       "      <td>RRMS</td>\n",
       "      <td>keine</td>\n",
       "      <td>2021-02-17</td>\n",
       "      <td>1</td>\n",
       "      <td>50</td>\n",
       "      <td>0</td>\n",
       "      <td>n</td>\n",
       "      <td>6.340</td>\n",
       "      <td>...</td>\n",
       "      <td>19.28</td>\n",
       "      <td>158.98</td>\n",
       "      <td>58.27</td>\n",
       "      <td>2.35</td>\n",
       "      <td>0.57</td>\n",
       "      <td>5.0</td>\n",
       "      <td>157.31</td>\n",
       "      <td>36.64</td>\n",
       "      <td>4.60</td>\n",
       "      <td>1.34</td>\n",
       "    </tr>\n",
       "    <tr>\n",
       "      <th>4</th>\n",
       "      <td>6</td>\n",
       "      <td>2012</td>\n",
       "      <td>RRMS</td>\n",
       "      <td>Tecfidera</td>\n",
       "      <td>2021-02-24</td>\n",
       "      <td>0</td>\n",
       "      <td>39</td>\n",
       "      <td>0</td>\n",
       "      <td>n</td>\n",
       "      <td>3.495</td>\n",
       "      <td>...</td>\n",
       "      <td>12.85</td>\n",
       "      <td>163.47</td>\n",
       "      <td>58.60</td>\n",
       "      <td>1.89</td>\n",
       "      <td>0.36</td>\n",
       "      <td>6.0</td>\n",
       "      <td>184.17</td>\n",
       "      <td>67.00</td>\n",
       "      <td>3.17</td>\n",
       "      <td>1.60</td>\n",
       "    </tr>\n",
       "  </tbody>\n",
       "</table>\n",
       "<p>5 rows × 128 columns</p>\n",
       "</div>"
      ]
     },
     "execution_count": 6,
     "metadata": {},
     "output_type": "execute_result"
    }
   ],
   "source": [
    "# get data\n",
    "data = catalog.load(\"2min_walking_test_data\")\n",
    "data.head()"
   ]
  },
  {
   "cell_type": "markdown",
   "id": "43974d91",
   "metadata": {},
   "source": [
    "## Precessed Data\n",
    "Data state after it has been through data processing pipeline"
   ]
  },
  {
   "cell_type": "code",
   "execution_count": null,
   "id": "12ad3393",
   "metadata": {},
   "outputs": [],
   "source": []
  }
 ],
 "metadata": {
  "kernelspec": {
   "display_name": "Kedro (multiple_sclerosis)",
   "language": "python",
   "name": "kedro_multiple_sclerosis"
  },
  "language_info": {
   "codemirror_mode": {
    "name": "ipython",
    "version": 3
   },
   "file_extension": ".py",
   "mimetype": "text/x-python",
   "name": "python",
   "nbconvert_exporter": "python",
   "pygments_lexer": "ipython3",
   "version": "3.9.6"
  },
  "vscode": {
   "interpreter": {
    "hash": "310cc817014cd45b379d6951ff7309531e2bc3048031f775fdeb52a4abfe5696"
   }
  }
 },
 "nbformat": 4,
 "nbformat_minor": 5
}
