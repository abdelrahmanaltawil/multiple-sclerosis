{
 "cells": [
  {
   "cell_type": "markdown",
   "id": "a708bc35",
   "metadata": {},
   "source": [
    "> **If it doesn't run**\\\n",
    "> To execute this notebook you need to use kedro kernel:\n",
    "> * In terminal (rooted in `~project/`) type command `kedro jupyter notebook`.\n",
    "> * Navigate to the notebook in jupyter notebook app in the browsers.\n",
    "\n",
    "> Alternatively, you could add `%load_ext kedro.ipython` line magic to a cell in this notebook to load the kernel or `%reload_kedro` to reload it.\n"
   ]
  },
  {
   "cell_type": "markdown",
   "id": "05069bcd",
   "metadata": {},
   "source": [
    "# Data States\n",
    "This notebook take sneak peak on the data states before and after the data processing pipeline"
   ]
  },
  {
   "cell_type": "markdown",
   "id": "5804cf59",
   "metadata": {},
   "source": [
    "## Raw Data\n",
    "Data state before data processing pipeline"
   ]
  },
  {
   "cell_type": "code",
   "execution_count": null,
   "id": "c8a9f793",
   "metadata": {},
   "outputs": [],
   "source": [
    "# get data\n",
    "data = catalog.load(\"2min_walking_test_paper_data\")\n",
    "\n",
    "data.head()"
   ]
  },
  {
   "cell_type": "markdown",
   "id": "43974d91",
   "metadata": {},
   "source": [
    "## Precessed Data\n",
    "Data state after it has been through data processing pipeline"
   ]
  },
  {
   "cell_type": "code",
   "execution_count": null,
   "id": "21ddca0e",
   "metadata": {},
   "outputs": [],
   "source": [
    "from multiple_sclerosis.pipelines.data_processing.nodes import clean_data\n",
    "\n",
    "\n",
    "cleaned = clean_data(data)\n",
    "\n",
    "cleaned.head()"
   ]
  },
  {
   "cell_type": "code",
   "execution_count": null,
   "id": "9677b239",
   "metadata": {},
   "outputs": [],
   "source": []
  }
 ],
 "metadata": {
  "kernelspec": {
   "display_name": "Kedro (multiple_sclerosis)",
   "language": "python",
   "name": "kedro_multiple_sclerosis"
  },
  "language_info": {
   "codemirror_mode": {
    "name": "ipython",
    "version": 3
   },
   "file_extension": ".py",
   "mimetype": "text/x-python",
   "name": "python",
   "nbconvert_exporter": "python",
   "pygments_lexer": "ipython3",
   "version": "3.10.9"
  },
  "vscode": {
   "interpreter": {
    "hash": "f98479adc89c0e844f1cb2a191c0b3d4dea6076a38b190b88b7c3fa6b7269015"
   }
  }
 },
 "nbformat": 4,
 "nbformat_minor": 5
}
