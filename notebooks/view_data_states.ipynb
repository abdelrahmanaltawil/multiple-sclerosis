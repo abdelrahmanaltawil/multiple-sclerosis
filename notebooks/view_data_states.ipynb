{
 "cells": [
  {
   "cell_type": "markdown",
   "id": "a708bc35",
   "metadata": {},
   "source": [
    "> **If it doesn't run**\\\n",
    "> To execute this notebook you need to use kedro kernel:\n",
    "> * In terminal (rooted in `~project/`) type command `kedro jupyter notebook`.\n",
    "> * Navigate to the notebook in jupyter notebook app in the browsers.\n",
    "\n",
    "> Alternatively, you could add `%load_ext kedro.ipython` line magic to a cell in this notebook to load the kernel or `%reload_kedro` to reload it.\n"
   ]
  },
  {
   "cell_type": "markdown",
   "id": "05069bcd",
   "metadata": {},
   "source": [
    "# Data States\n",
    "This notebook take sneak peak on the data states before and after the data processing pipeline"
   ]
  },
  {
   "cell_type": "markdown",
   "id": "5804cf59",
   "metadata": {},
   "source": [
    "## Raw Data\n",
    "Data state before data processing pipeline"
   ]
  },
  {
   "cell_type": "code",
   "execution_count": null,
   "id": "c8a9f793",
   "metadata": {
    "vscode": {
     "languageId": "python"
    }
   },
   "outputs": [],
   "source": [
    "# get data\n",
    "data = catalog.load(\"2min_walking_test_paper_data\")\n",
    "data.head()\n",
    "\n",
    "data[\"2-minute Walk  (m)\"].mean()"
   ]
  },
  {
   "cell_type": "markdown",
   "id": "43974d91",
   "metadata": {},
   "source": [
    "## Precessed Data\n",
    "Data state after it has been through data processing pipeline"
   ]
  }
 ],
 "metadata": {
  "kernelspec": {
   "display_name": "Python 3.10 (tensorflow)",
   "language": "python",
   "name": "tensorflow"
  },
  "vscode": {
   "interpreter": {
    "hash": "310cc817014cd45b379d6951ff7309531e2bc3048031f775fdeb52a4abfe5696"
   }
  }
 },
 "nbformat": 4,
 "nbformat_minor": 5
}
